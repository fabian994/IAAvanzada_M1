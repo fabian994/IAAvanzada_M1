{
 "cells": [
  {
   "cell_type": "markdown",
   "metadata": {},
   "source": [
    "# Workshop 1\n",
    "Fabián González Vera A01367585\n",
    "09/08/2023"
   ]
  },
  {
   "cell_type": "markdown",
   "metadata": {},
   "source": [
    "# 2.3 CHALLENGE: Data management and Descriptive Statistics"
   ]
  },
  {
   "cell_type": "markdown",
   "metadata": {},
   "source": [
    "## 2.3.1 Data collection and visualization"
   ]
  },
  {
   "cell_type": "code",
   "execution_count": 1,
   "metadata": {},
   "outputs": [],
   "source": [
    "import numpy as np\n",
    "import pandas as pd\n",
    "import yfinance as yf\n",
    "import matplotlib.pyplot as plt\n",
    "from matplotlib.patches import Rectangle"
   ]
  },
  {
   "cell_type": "code",
   "execution_count": 2,
   "metadata": {},
   "outputs": [
    {
     "name": "stdout",
     "output_type": "stream",
     "text": [
      "[*********************100%%**********************]  1 of 1 completed\n"
     ]
    }
   ],
   "source": [
    "BTC=yf.download(tickers=\"BTC-USD\", start=\"2017-01-01\",interval=\"1mo\")"
   ]
  },
  {
   "cell_type": "code",
   "execution_count": 3,
   "metadata": {},
   "outputs": [
    {
     "data": {
      "text/html": [
       "<div>\n",
       "<style scoped>\n",
       "    .dataframe tbody tr th:only-of-type {\n",
       "        vertical-align: middle;\n",
       "    }\n",
       "\n",
       "    .dataframe tbody tr th {\n",
       "        vertical-align: top;\n",
       "    }\n",
       "\n",
       "    .dataframe thead th {\n",
       "        text-align: right;\n",
       "    }\n",
       "</style>\n",
       "<table border=\"1\" class=\"dataframe\">\n",
       "  <thead>\n",
       "    <tr style=\"text-align: right;\">\n",
       "      <th></th>\n",
       "      <th>Open</th>\n",
       "      <th>High</th>\n",
       "      <th>Low</th>\n",
       "      <th>Close</th>\n",
       "      <th>Adj Close</th>\n",
       "      <th>Volume</th>\n",
       "    </tr>\n",
       "    <tr>\n",
       "      <th>Date</th>\n",
       "      <th></th>\n",
       "      <th></th>\n",
       "      <th></th>\n",
       "      <th></th>\n",
       "      <th></th>\n",
       "      <th></th>\n",
       "    </tr>\n",
       "  </thead>\n",
       "  <tbody>\n",
       "    <tr>\n",
       "      <th>2017-01-01</th>\n",
       "      <td>963.658020</td>\n",
       "      <td>1191.099976</td>\n",
       "      <td>755.755981</td>\n",
       "      <td>970.403015</td>\n",
       "      <td>970.403015</td>\n",
       "      <td>5143971692</td>\n",
       "    </tr>\n",
       "    <tr>\n",
       "      <th>2017-02-01</th>\n",
       "      <td>970.940979</td>\n",
       "      <td>1200.390015</td>\n",
       "      <td>946.690979</td>\n",
       "      <td>1179.969971</td>\n",
       "      <td>1179.969971</td>\n",
       "      <td>4282761200</td>\n",
       "    </tr>\n",
       "    <tr>\n",
       "      <th>2017-03-01</th>\n",
       "      <td>1180.040039</td>\n",
       "      <td>1280.310059</td>\n",
       "      <td>903.713013</td>\n",
       "      <td>1071.790039</td>\n",
       "      <td>1071.790039</td>\n",
       "      <td>10872455960</td>\n",
       "    </tr>\n",
       "    <tr>\n",
       "      <th>2017-04-01</th>\n",
       "      <td>1071.709961</td>\n",
       "      <td>1347.910034</td>\n",
       "      <td>1061.089966</td>\n",
       "      <td>1347.890015</td>\n",
       "      <td>1347.890015</td>\n",
       "      <td>9757448112</td>\n",
       "    </tr>\n",
       "    <tr>\n",
       "      <th>2017-05-01</th>\n",
       "      <td>1348.300049</td>\n",
       "      <td>2763.709961</td>\n",
       "      <td>1348.300049</td>\n",
       "      <td>2286.409912</td>\n",
       "      <td>2286.409912</td>\n",
       "      <td>34261856864</td>\n",
       "    </tr>\n",
       "    <tr>\n",
       "      <th>...</th>\n",
       "      <td>...</td>\n",
       "      <td>...</td>\n",
       "      <td>...</td>\n",
       "      <td>...</td>\n",
       "      <td>...</td>\n",
       "      <td>...</td>\n",
       "    </tr>\n",
       "    <tr>\n",
       "      <th>2023-04-01</th>\n",
       "      <td>28473.332031</td>\n",
       "      <td>31005.607422</td>\n",
       "      <td>27070.849609</td>\n",
       "      <td>29268.806641</td>\n",
       "      <td>29268.806641</td>\n",
       "      <td>511540319004</td>\n",
       "    </tr>\n",
       "    <tr>\n",
       "      <th>2023-05-01</th>\n",
       "      <td>29227.103516</td>\n",
       "      <td>29820.126953</td>\n",
       "      <td>25878.429688</td>\n",
       "      <td>27219.658203</td>\n",
       "      <td>27219.658203</td>\n",
       "      <td>443473015479</td>\n",
       "    </tr>\n",
       "    <tr>\n",
       "      <th>2023-06-01</th>\n",
       "      <td>27218.412109</td>\n",
       "      <td>31389.539062</td>\n",
       "      <td>24797.167969</td>\n",
       "      <td>30477.251953</td>\n",
       "      <td>30477.251953</td>\n",
       "      <td>481734214225</td>\n",
       "    </tr>\n",
       "    <tr>\n",
       "      <th>2023-07-01</th>\n",
       "      <td>30471.847656</td>\n",
       "      <td>31814.515625</td>\n",
       "      <td>28934.294922</td>\n",
       "      <td>29230.111328</td>\n",
       "      <td>29230.111328</td>\n",
       "      <td>382224489090</td>\n",
       "    </tr>\n",
       "    <tr>\n",
       "      <th>2023-08-01</th>\n",
       "      <td>29230.873047</td>\n",
       "      <td>30176.796875</td>\n",
       "      <td>28657.023438</td>\n",
       "      <td>29173.755859</td>\n",
       "      <td>29173.755859</td>\n",
       "      <td>200816596735</td>\n",
       "    </tr>\n",
       "  </tbody>\n",
       "</table>\n",
       "<p>80 rows × 6 columns</p>\n",
       "</div>"
      ],
      "text/plain": [
       "                    Open          High           Low         Close  \\\n",
       "Date                                                                 \n",
       "2017-01-01    963.658020   1191.099976    755.755981    970.403015   \n",
       "2017-02-01    970.940979   1200.390015    946.690979   1179.969971   \n",
       "2017-03-01   1180.040039   1280.310059    903.713013   1071.790039   \n",
       "2017-04-01   1071.709961   1347.910034   1061.089966   1347.890015   \n",
       "2017-05-01   1348.300049   2763.709961   1348.300049   2286.409912   \n",
       "...                  ...           ...           ...           ...   \n",
       "2023-04-01  28473.332031  31005.607422  27070.849609  29268.806641   \n",
       "2023-05-01  29227.103516  29820.126953  25878.429688  27219.658203   \n",
       "2023-06-01  27218.412109  31389.539062  24797.167969  30477.251953   \n",
       "2023-07-01  30471.847656  31814.515625  28934.294922  29230.111328   \n",
       "2023-08-01  29230.873047  30176.796875  28657.023438  29173.755859   \n",
       "\n",
       "               Adj Close        Volume  \n",
       "Date                                    \n",
       "2017-01-01    970.403015    5143971692  \n",
       "2017-02-01   1179.969971    4282761200  \n",
       "2017-03-01   1071.790039   10872455960  \n",
       "2017-04-01   1347.890015    9757448112  \n",
       "2017-05-01   2286.409912   34261856864  \n",
       "...                  ...           ...  \n",
       "2023-04-01  29268.806641  511540319004  \n",
       "2023-05-01  27219.658203  443473015479  \n",
       "2023-06-01  30477.251953  481734214225  \n",
       "2023-07-01  29230.111328  382224489090  \n",
       "2023-08-01  29173.755859  200816596735  \n",
       "\n",
       "[80 rows x 6 columns]"
      ]
     },
     "execution_count": 3,
     "metadata": {},
     "output_type": "execute_result"
    }
   ],
   "source": [
    "BTC"
   ]
  },
  {
   "cell_type": "code",
   "execution_count": 4,
   "metadata": {},
   "outputs": [
    {
     "data": {
      "text/html": [
       "<div>\n",
       "<style scoped>\n",
       "    .dataframe tbody tr th:only-of-type {\n",
       "        vertical-align: middle;\n",
       "    }\n",
       "\n",
       "    .dataframe tbody tr th {\n",
       "        vertical-align: top;\n",
       "    }\n",
       "\n",
       "    .dataframe thead th {\n",
       "        text-align: right;\n",
       "    }\n",
       "</style>\n",
       "<table border=\"1\" class=\"dataframe\">\n",
       "  <thead>\n",
       "    <tr style=\"text-align: right;\">\n",
       "      <th></th>\n",
       "      <th>Open</th>\n",
       "      <th>High</th>\n",
       "      <th>Low</th>\n",
       "      <th>Close</th>\n",
       "      <th>Adj Close</th>\n",
       "      <th>Volume</th>\n",
       "    </tr>\n",
       "    <tr>\n",
       "      <th>Date</th>\n",
       "      <th></th>\n",
       "      <th></th>\n",
       "      <th></th>\n",
       "      <th></th>\n",
       "      <th></th>\n",
       "      <th></th>\n",
       "    </tr>\n",
       "  </thead>\n",
       "  <tbody>\n",
       "    <tr>\n",
       "      <th>2023-04-01</th>\n",
       "      <td>28473.332031</td>\n",
       "      <td>31005.607422</td>\n",
       "      <td>27070.849609</td>\n",
       "      <td>29268.806641</td>\n",
       "      <td>29268.806641</td>\n",
       "      <td>511540319004</td>\n",
       "    </tr>\n",
       "    <tr>\n",
       "      <th>2023-05-01</th>\n",
       "      <td>29227.103516</td>\n",
       "      <td>29820.126953</td>\n",
       "      <td>25878.429688</td>\n",
       "      <td>27219.658203</td>\n",
       "      <td>27219.658203</td>\n",
       "      <td>443473015479</td>\n",
       "    </tr>\n",
       "    <tr>\n",
       "      <th>2023-06-01</th>\n",
       "      <td>27218.412109</td>\n",
       "      <td>31389.539062</td>\n",
       "      <td>24797.167969</td>\n",
       "      <td>30477.251953</td>\n",
       "      <td>30477.251953</td>\n",
       "      <td>481734214225</td>\n",
       "    </tr>\n",
       "    <tr>\n",
       "      <th>2023-07-01</th>\n",
       "      <td>30471.847656</td>\n",
       "      <td>31814.515625</td>\n",
       "      <td>28934.294922</td>\n",
       "      <td>29230.111328</td>\n",
       "      <td>29230.111328</td>\n",
       "      <td>382224489090</td>\n",
       "    </tr>\n",
       "    <tr>\n",
       "      <th>2023-08-01</th>\n",
       "      <td>29230.873047</td>\n",
       "      <td>30176.796875</td>\n",
       "      <td>28657.023438</td>\n",
       "      <td>29173.755859</td>\n",
       "      <td>29173.755859</td>\n",
       "      <td>200816596735</td>\n",
       "    </tr>\n",
       "  </tbody>\n",
       "</table>\n",
       "</div>"
      ],
      "text/plain": [
       "                    Open          High           Low         Close  \\\n",
       "Date                                                                 \n",
       "2023-04-01  28473.332031  31005.607422  27070.849609  29268.806641   \n",
       "2023-05-01  29227.103516  29820.126953  25878.429688  27219.658203   \n",
       "2023-06-01  27218.412109  31389.539062  24797.167969  30477.251953   \n",
       "2023-07-01  30471.847656  31814.515625  28934.294922  29230.111328   \n",
       "2023-08-01  29230.873047  30176.796875  28657.023438  29173.755859   \n",
       "\n",
       "               Adj Close        Volume  \n",
       "Date                                    \n",
       "2023-04-01  29268.806641  511540319004  \n",
       "2023-05-01  27219.658203  443473015479  \n",
       "2023-06-01  30477.251953  481734214225  \n",
       "2023-07-01  29230.111328  382224489090  \n",
       "2023-08-01  29173.755859  200816596735  "
      ]
     },
     "execution_count": 4,
     "metadata": {},
     "output_type": "execute_result"
    }
   ],
   "source": [
    "BTC.tail()"
   ]
  },
  {
   "cell_type": "code",
   "execution_count": 5,
   "metadata": {},
   "outputs": [
    {
     "data": {
      "image/png": "[encoded data removed]",
      "text/plain": [
       "<Figure size 640x480 with 1 Axes>"
      ]
     },
     "metadata": {},
     "output_type": "display_data"
    }
   ],
   "source": [
    "\n",
    "plt.plot(BTC[\"Adj Close\"])\n",
    "plt.show()"
   ]
  },
  {
   "cell_type": "code",
   "execution_count": 6,
   "metadata": {},
   "outputs": [
    {
     "name": "stdout",
     "output_type": "stream",
     "text": [
      "<class 'pandas.core.frame.DataFrame'>\n",
      "DatetimeIndex: 80 entries, 2017-01-01 to 2023-08-01\n",
      "Data columns (total 6 columns):\n",
      " #   Column     Non-Null Count  Dtype  \n",
      "---  ------     --------------  -----  \n",
      " 0   Open       80 non-null     float64\n",
      " 1   High       80 non-null     float64\n",
      " 2   Low        80 non-null     float64\n",
      " 3   Close      80 non-null     float64\n",
      " 4   Adj Close  80 non-null     float64\n",
      " 5   Volume     80 non-null     int64  \n",
      "dtypes: float64(5), int64(1)\n",
      "memory usage: 4.4 KB\n"
     ]
    }
   ],
   "source": [
    "BTC.info()"
   ]
  },
  {
   "cell_type": "markdown",
   "metadata": {},
   "source": [
    "## 2.3.2 Data transformations"
   ]
  },
  {
   "cell_type": "code",
   "execution_count": 7,
   "metadata": {},
   "outputs": [
    {
     "name": "stdout",
     "output_type": "stream",
     "text": [
      "Date\n",
      "2017-01-01         NaN\n",
      "2017-02-01    0.215959\n",
      "2017-03-01   -0.091680\n",
      "2017-04-01    0.257606\n",
      "2017-05-01    0.696288\n",
      "                ...   \n",
      "2023-04-01    0.027752\n",
      "2023-05-01   -0.070011\n",
      "2023-06-01    0.119678\n",
      "2023-07-01   -0.040920\n",
      "2023-08-01   -0.001928\n",
      "Name: R, Length: 80, dtype: float64\n"
     ]
    }
   ],
   "source": [
    "#2.3.2.3 Continuosly compounded returns\n",
    "BTC[\"R\"] = (BTC[\"Adj Close\"] / BTC[\"Adj Close\"].shift(1)) - 1\n",
    "print(BTC[\"R\"])"
   ]
  },
  {
   "cell_type": "code",
   "execution_count": 8,
   "metadata": {},
   "outputs": [],
   "source": [
    "BTC[\"r\"] = np.log(BTC['Adj Close']) - np.log(BTC['Adj Close'].shift(1))\n",
    "BTCR = BTC[['R','r']].copy()"
   ]
  },
  {
   "cell_type": "code",
   "execution_count": 9,
   "metadata": {},
   "outputs": [],
   "source": [
    "BTCR= BTCR.dropna()"
   ]
  },
  {
   "cell_type": "code",
   "execution_count": 10,
   "metadata": {},
   "outputs": [
    {
     "data": {
      "text/plain": [
       "count    79.000000\n",
       "mean      0.070411\n",
       "std       0.242312\n",
       "min      -0.377688\n",
       "25%      -0.077135\n",
       "50%       0.017298\n",
       "75%       0.234738\n",
       "max       0.696288\n",
       "Name: R, dtype: float64"
      ]
     },
     "execution_count": 10,
     "metadata": {},
     "output_type": "execute_result"
    }
   ],
   "source": [
    "#2.3.2.4 Descriptive statistics of returns\n",
    "\n",
    "sumret = BTC[\"R\"].describe()\n",
    "sumret"
   ]
  },
  {
   "cell_type": "code",
   "execution_count": 11,
   "metadata": {},
   "outputs": [
    {
     "data": {
      "text/html": [
       "<div>\n",
       "<style scoped>\n",
       "    .dataframe tbody tr th:only-of-type {\n",
       "        vertical-align: middle;\n",
       "    }\n",
       "\n",
       "    .dataframe tbody tr th {\n",
       "        vertical-align: top;\n",
       "    }\n",
       "\n",
       "    .dataframe thead th {\n",
       "        text-align: right;\n",
       "    }\n",
       "</style>\n",
       "<table border=\"1\" class=\"dataframe\">\n",
       "  <thead>\n",
       "    <tr style=\"text-align: right;\">\n",
       "      <th></th>\n",
       "      <th>R</th>\n",
       "      <th>r</th>\n",
       "    </tr>\n",
       "    <tr>\n",
       "      <th>Date</th>\n",
       "      <th></th>\n",
       "      <th></th>\n",
       "    </tr>\n",
       "  </thead>\n",
       "  <tbody>\n",
       "    <tr>\n",
       "      <th>2018-01-01</th>\n",
       "      <td>-0.277987</td>\n",
       "      <td>-0.325713</td>\n",
       "    </tr>\n",
       "    <tr>\n",
       "      <th>2018-03-01</th>\n",
       "      <td>-0.329333</td>\n",
       "      <td>-0.399482</td>\n",
       "    </tr>\n",
       "    <tr>\n",
       "      <th>2018-05-01</th>\n",
       "      <td>-0.188991</td>\n",
       "      <td>-0.209476</td>\n",
       "    </tr>\n",
       "    <tr>\n",
       "      <th>2018-11-01</th>\n",
       "      <td>-0.364116</td>\n",
       "      <td>-0.452739</td>\n",
       "    </tr>\n",
       "    <tr>\n",
       "      <th>2019-11-01</th>\n",
       "      <td>-0.177177</td>\n",
       "      <td>-0.195014</td>\n",
       "    </tr>\n",
       "    <tr>\n",
       "      <th>2020-03-01</th>\n",
       "      <td>-0.251278</td>\n",
       "      <td>-0.289387</td>\n",
       "    </tr>\n",
       "    <tr>\n",
       "      <th>2021-05-01</th>\n",
       "      <td>-0.353546</td>\n",
       "      <td>-0.436253</td>\n",
       "    </tr>\n",
       "    <tr>\n",
       "      <th>2021-12-01</th>\n",
       "      <td>-0.187684</td>\n",
       "      <td>-0.207865</td>\n",
       "    </tr>\n",
       "    <tr>\n",
       "      <th>2022-01-01</th>\n",
       "      <td>-0.168947</td>\n",
       "      <td>-0.185061</td>\n",
       "    </tr>\n",
       "    <tr>\n",
       "      <th>2022-04-01</th>\n",
       "      <td>-0.171806</td>\n",
       "      <td>-0.188507</td>\n",
       "    </tr>\n",
       "    <tr>\n",
       "      <th>2022-05-01</th>\n",
       "      <td>-0.157035</td>\n",
       "      <td>-0.170830</td>\n",
       "    </tr>\n",
       "    <tr>\n",
       "      <th>2022-06-01</th>\n",
       "      <td>-0.377688</td>\n",
       "      <td>-0.474314</td>\n",
       "    </tr>\n",
       "    <tr>\n",
       "      <th>2022-11-01</th>\n",
       "      <td>-0.162336</td>\n",
       "      <td>-0.177139</td>\n",
       "    </tr>\n",
       "  </tbody>\n",
       "</table>\n",
       "</div>"
      ],
      "text/plain": [
       "                   R         r\n",
       "Date                          \n",
       "2018-01-01 -0.277987 -0.325713\n",
       "2018-03-01 -0.329333 -0.399482\n",
       "2018-05-01 -0.188991 -0.209476\n",
       "2018-11-01 -0.364116 -0.452739\n",
       "2019-11-01 -0.177177 -0.195014\n",
       "2020-03-01 -0.251278 -0.289387\n",
       "2021-05-01 -0.353546 -0.436253\n",
       "2021-12-01 -0.187684 -0.207865\n",
       "2022-01-01 -0.168947 -0.185061\n",
       "2022-04-01 -0.171806 -0.188507\n",
       "2022-05-01 -0.157035 -0.170830\n",
       "2022-06-01 -0.377688 -0.474314\n",
       "2022-11-01 -0.162336 -0.177139"
      ]
     },
     "execution_count": 11,
     "metadata": {},
     "output_type": "execute_result"
    }
   ],
   "source": [
    "BTCR[BTCR[\"R\"]<-0.15]"
   ]
  },
  {
   "cell_type": "code",
   "execution_count": 12,
   "metadata": {},
   "outputs": [
    {
     "data": {
      "text/html": [
       "<div>\n",
       "<style scoped>\n",
       "    .dataframe tbody tr th:only-of-type {\n",
       "        vertical-align: middle;\n",
       "    }\n",
       "\n",
       "    .dataframe tbody tr th {\n",
       "        vertical-align: top;\n",
       "    }\n",
       "\n",
       "    .dataframe thead th {\n",
       "        text-align: right;\n",
       "    }\n",
       "</style>\n",
       "<table border=\"1\" class=\"dataframe\">\n",
       "  <thead>\n",
       "    <tr style=\"text-align: right;\">\n",
       "      <th></th>\n",
       "      <th>R</th>\n",
       "      <th>r</th>\n",
       "    </tr>\n",
       "    <tr>\n",
       "      <th>Date</th>\n",
       "      <th></th>\n",
       "      <th></th>\n",
       "    </tr>\n",
       "  </thead>\n",
       "  <tbody>\n",
       "    <tr>\n",
       "      <th>2017-05-01</th>\n",
       "      <td>0.696288</td>\n",
       "      <td>0.528442</td>\n",
       "    </tr>\n",
       "    <tr>\n",
       "      <th>2017-08-01</th>\n",
       "      <td>0.635768</td>\n",
       "      <td>0.492113</td>\n",
       "    </tr>\n",
       "    <tr>\n",
       "      <th>2019-05-01</th>\n",
       "      <td>0.602493</td>\n",
       "      <td>0.471561</td>\n",
       "    </tr>\n",
       "    <tr>\n",
       "      <th>2017-11-01</th>\n",
       "      <td>0.582091</td>\n",
       "      <td>0.458748</td>\n",
       "    </tr>\n",
       "    <tr>\n",
       "      <th>2017-10-01</th>\n",
       "      <td>0.490858</td>\n",
       "      <td>0.399352</td>\n",
       "    </tr>\n",
       "    <tr>\n",
       "      <th>2020-12-01</th>\n",
       "      <td>0.477732</td>\n",
       "      <td>0.390508</td>\n",
       "    </tr>\n",
       "    <tr>\n",
       "      <th>2020-11-01</th>\n",
       "      <td>0.424123</td>\n",
       "      <td>0.353556</td>\n",
       "    </tr>\n",
       "    <tr>\n",
       "      <th>2021-10-01</th>\n",
       "      <td>0.400267</td>\n",
       "      <td>0.336663</td>\n",
       "    </tr>\n",
       "    <tr>\n",
       "      <th>2023-01-01</th>\n",
       "      <td>0.398356</td>\n",
       "      <td>0.335297</td>\n",
       "    </tr>\n",
       "    <tr>\n",
       "      <th>2017-12-01</th>\n",
       "      <td>0.383326</td>\n",
       "      <td>0.324490</td>\n",
       "    </tr>\n",
       "    <tr>\n",
       "      <th>2021-02-01</th>\n",
       "      <td>0.363088</td>\n",
       "      <td>0.309752</td>\n",
       "    </tr>\n",
       "    <tr>\n",
       "      <th>2020-04-01</th>\n",
       "      <td>0.344779</td>\n",
       "      <td>0.296230</td>\n",
       "    </tr>\n",
       "    <tr>\n",
       "      <th>2018-04-01</th>\n",
       "      <td>0.325089</td>\n",
       "      <td>0.281480</td>\n",
       "    </tr>\n",
       "    <tr>\n",
       "      <th>2021-03-01</th>\n",
       "      <td>0.305311</td>\n",
       "      <td>0.266441</td>\n",
       "    </tr>\n",
       "    <tr>\n",
       "      <th>2019-04-01</th>\n",
       "      <td>0.303337</td>\n",
       "      <td>0.264928</td>\n",
       "    </tr>\n",
       "    <tr>\n",
       "      <th>2020-01-01</th>\n",
       "      <td>0.299840</td>\n",
       "      <td>0.262241</td>\n",
       "    </tr>\n",
       "    <tr>\n",
       "      <th>2020-10-01</th>\n",
       "      <td>0.277853</td>\n",
       "      <td>0.245181</td>\n",
       "    </tr>\n",
       "    <tr>\n",
       "      <th>2019-06-01</th>\n",
       "      <td>0.261549</td>\n",
       "      <td>0.232340</td>\n",
       "    </tr>\n",
       "    <tr>\n",
       "      <th>2017-04-01</th>\n",
       "      <td>0.257606</td>\n",
       "      <td>0.229210</td>\n",
       "    </tr>\n",
       "    <tr>\n",
       "      <th>2020-07-01</th>\n",
       "      <td>0.239163</td>\n",
       "      <td>0.214436</td>\n",
       "    </tr>\n",
       "    <tr>\n",
       "      <th>2023-03-01</th>\n",
       "      <td>0.230313</td>\n",
       "      <td>0.207268</td>\n",
       "    </tr>\n",
       "    <tr>\n",
       "      <th>2017-02-01</th>\n",
       "      <td>0.215959</td>\n",
       "      <td>0.195533</td>\n",
       "    </tr>\n",
       "    <tr>\n",
       "      <th>2018-07-01</th>\n",
       "      <td>0.214934</td>\n",
       "      <td>0.194690</td>\n",
       "    </tr>\n",
       "    <tr>\n",
       "      <th>2021-07-01</th>\n",
       "      <td>0.187934</td>\n",
       "      <td>0.172216</td>\n",
       "    </tr>\n",
       "    <tr>\n",
       "      <th>2022-07-01</th>\n",
       "      <td>0.179541</td>\n",
       "      <td>0.165125</td>\n",
       "    </tr>\n",
       "    <tr>\n",
       "      <th>2017-07-01</th>\n",
       "      <td>0.159019</td>\n",
       "      <td>0.147574</td>\n",
       "    </tr>\n",
       "  </tbody>\n",
       "</table>\n",
       "</div>"
      ],
      "text/plain": [
       "                   R         r\n",
       "Date                          \n",
       "2017-05-01  0.696288  0.528442\n",
       "2017-08-01  0.635768  0.492113\n",
       "2019-05-01  0.602493  0.471561\n",
       "2017-11-01  0.582091  0.458748\n",
       "2017-10-01  0.490858  0.399352\n",
       "2020-12-01  0.477732  0.390508\n",
       "2020-11-01  0.424123  0.353556\n",
       "2021-10-01  0.400267  0.336663\n",
       "2023-01-01  0.398356  0.335297\n",
       "2017-12-01  0.383326  0.324490\n",
       "2021-02-01  0.363088  0.309752\n",
       "2020-04-01  0.344779  0.296230\n",
       "2018-04-01  0.325089  0.281480\n",
       "2021-03-01  0.305311  0.266441\n",
       "2019-04-01  0.303337  0.264928\n",
       "2020-01-01  0.299840  0.262241\n",
       "2020-10-01  0.277853  0.245181\n",
       "2019-06-01  0.261549  0.232340\n",
       "2017-04-01  0.257606  0.229210\n",
       "2020-07-01  0.239163  0.214436\n",
       "2023-03-01  0.230313  0.207268\n",
       "2017-02-01  0.215959  0.195533\n",
       "2018-07-01  0.214934  0.194690\n",
       "2021-07-01  0.187934  0.172216\n",
       "2022-07-01  0.179541  0.165125\n",
       "2017-07-01  0.159019  0.147574"
      ]
     },
     "execution_count": 12,
     "metadata": {},
     "output_type": "execute_result"
    }
   ],
   "source": [
    "BTCR[BTCR[\"R\"]>0.15].sort_values(by=['R'], ascending=False)"
   ]
  },
  {
   "cell_type": "code",
   "execution_count": 13,
   "metadata": {},
   "outputs": [
    {
     "name": "stdout",
     "output_type": "stream",
     "text": [
      "The daily average return of Bitcoin is  0.04307991579047329\n",
      "The daily variance of Bitcoin is  0.05069286415704419\n",
      "The daily standard deviation (volatility) of Bitcoin return is  0.2251507587307762\n",
      "The daily median return of Bitcoin is  0.01714972738881393\n"
     ]
    }
   ],
   "source": [
    "print(\"The daily average return of Bitcoin is \", BTCR[\"r\"].mean())\n",
    "print(\"The daily variance of Bitcoin is \", BTCR[\"r\"].var())\n",
    "print(\"The daily standard deviation (volatility) of Bitcoin return is \", BTCR[\"r\"].std())\n",
    "print(\"The daily median return of Bitcoin is \",BTCR[\"r\"].median())"
   ]
  },
  {
   "cell_type": "markdown",
   "metadata": {},
   "source": [
    "# 3.2 CHALLENGES: Histogram\n",
    "\n",
    "Do a histogram for daily Bitcoin cc returns. Hints: use the plot.hist function for pandas dataframes, and the BTC dataframe."
   ]
  },
  {
   "cell_type": "code",
   "execution_count": 14,
   "metadata": {},
   "outputs": [
    {
     "name": "stdout",
     "output_type": "stream",
     "text": [
      "[*********************100%%**********************]  1 of 1 completed\n",
      "Date\n",
      "2017-01-01         NaN\n",
      "2017-01-02    0.023464\n",
      "2017-01-03    0.021620\n",
      "2017-01-04    0.106233\n",
      "2017-01-05   -0.122410\n",
      "                ...   \n",
      "2023-08-12    0.000621\n",
      "2023-08-13   -0.004523\n",
      "2023-08-14    0.004287\n",
      "2023-08-15   -0.008096\n",
      "2023-08-16    0.000117\n",
      "Name: R, Length: 2419, dtype: float64\n"
     ]
    },
    {
     "data": {
      "image/png": "[encoded data removed]",
      "text/plain": [
       "<Figure size 640x480 with 1 Axes>"
      ]
     },
     "metadata": {},
     "output_type": "display_data"
    }
   ],
   "source": [
    "# 3.2 \n",
    "\n",
    "BTC=yf.download(tickers=\"BTC-USD\", start=\"2017-01-01\",interval=\"1d\")\n",
    "# I calculate simple and cc return columns:\n",
    "BTC[\"R\"] = (BTC[\"Adj Close\"] / BTC[\"Adj Close\"].shift(1)) - 1\n",
    "BTC[\"r\"] = np.log(BTC['Adj Close']).diff(1)\n",
    "# I keep a new object with only returns:\n",
    "BTCR = BTC[['R','r']].copy()\n",
    "###------\n",
    "print(BTC[\"R\"])\n",
    "plt.hist(BTC[\"R\"],bins=12, alpha=0.5)\n",
    "plt.title(\"Histogram of daily Bitcoin Returns\")\n",
    "plt.legend([\"R\"])\n",
    "plt.show()"
   ]
  },
  {
   "cell_type": "markdown",
   "metadata": {},
   "source": [
    "### Interpret the histogram with your own words and in CAPITAL LETTERS\n",
    "\n",
    "THE FREQUENCY OF THE RETURNS IS VERY EXTREME, WITH THE HIGHEST AROUND 1400 AND THE LOWEST AROUND 0"
   ]
  },
  {
   "cell_type": "markdown",
   "metadata": {},
   "source": [
    "# 5.2 CHALLENGE: Simulating the normal distribution"
   ]
  },
  {
   "cell_type": "markdown",
   "metadata": {},
   "source": [
    "Use the mean and standard deviation of the historical cc returns of Bitcoin and simulate the same # of returns as the days we dowloaded in the BTCR dataframe.\n",
    "\n",
    "In one plot show both, the real distribution of historical cc returns and the simulated normal distribution."
   ]
  },
  {
   "cell_type": "code",
   "execution_count": 15,
   "metadata": {},
   "outputs": [
    {
     "name": "stdout",
     "output_type": "stream",
     "text": [
      "0.0013957592743386218\n",
      "0.03965822437310946\n"
     ]
    }
   ],
   "source": [
    "BTcr_mean = BTCR[\"r\"].mean()\n",
    "BTcr_std = BTCR[\"r\"].std()\n",
    "\n",
    "print(BTcr_mean)\n",
    "print(BTcr_std)"
   ]
  },
  {
   "cell_type": "code",
   "execution_count": 16,
   "metadata": {},
   "outputs": [
    {
     "name": "stdout",
     "output_type": "stream",
     "text": [
      "2419\n"
     ]
    }
   ],
   "source": [
    "cr_size = len(BTCR['r'])\n",
    "print(cr_size)"
   ]
  },
  {
   "cell_type": "code",
   "execution_count": 17,
   "metadata": {},
   "outputs": [],
   "source": [
    "rng = np.random.default_rng()\n",
    "sim = rng.normal(loc=BTcr_mean, scale=BTcr_std, size=cr_size)"
   ]
  },
  {
   "cell_type": "code",
   "execution_count": 18,
   "metadata": {},
   "outputs": [
    {
     "data": {
      "image/png": "[encoded data removed]",
      "text/plain": [
       "<Figure size 640x480 with 1 Axes>"
      ]
     },
     "metadata": {},
     "output_type": "display_data"
    }
   ],
   "source": [
    "plt.hist(BTC[\"R\"].to_numpy(),bins=12, alpha=0.5, color='orange')\n",
    "plt.hist(sim,bins=12, alpha=0.5)\n",
    "plt.title('Histogram of real and simulated cc returns of Bitcoin')\n",
    "plt.legend([\"Real sets\",\"simulated sets\"])\n",
    "plt.show()"
   ]
  },
  {
   "cell_type": "markdown",
   "metadata": {},
   "source": [
    "### DO YOU SEE A DIFFERENCE BEWEEN THE REAL VS THE SIMULATED RETURNS? BRIEFLY EXPLAIN.\n",
    "\n"
   ]
  },
  {
   "cell_type": "markdown",
   "metadata": {},
   "source": [
    "THE SIMULATED RETURNS WHILE GENERATED RANDOMLY, HAVE BEEN GIVEN CERTAIN PARAMETERS IN ORDER TO GIVE A SIMILAR RANGE TO THE REAL RETURNS.\n",
    "\n",
    "THE MAIN DIFFERENCE IS THE FRECUENCY OF THE RETURNS BETWEEN THE REAL AND THE SIMULATED RETURNS, THIS MEANS THAT THE REAL BTC RETURNS HAVE MORE EXTREME VALUES"
   ]
  }
 ],
 "metadata": {
  "kernelspec": {
   "display_name": "Python 3",
   "language": "python",
   "name": "python3"
  },
  "language_info": {
   "codemirror_mode": {
    "name": "ipython",
    "version": 3
   },
   "file_extension": ".py",
   "mimetype": "text/x-python",
   "name": "python",
   "nbconvert_exporter": "python",
   "pygments_lexer": "ipython3",
   "version": "3.11.4"
  },
  "orig_nbformat": 4
 },
 "nbformat": 4,
 "nbformat_minor": 2
}
